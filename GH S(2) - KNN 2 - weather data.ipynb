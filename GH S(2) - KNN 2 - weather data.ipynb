{
 "cells": [
  {
   "cell_type": "code",
   "execution_count": 76,
   "id": "9b6a7fbb",
   "metadata": {},
   "outputs": [
    {
     "data": {
      "text/plain": [
       "'C:\\\\Users\\\\ABC\\\\6. Datasets'"
      ]
     },
     "execution_count": 76,
     "metadata": {},
     "output_type": "execute_result"
    }
   ],
   "source": [
    "pwd"
   ]
  },
  {
   "cell_type": "code",
   "execution_count": 77,
   "id": "31e7cf61",
   "metadata": {},
   "outputs": [],
   "source": [
    "import pandas as pd\n",
    "import numpy as np\n",
    "from sklearn.model_selection import train_test_split\n",
    "from sklearn.neighbors import KNeighborsClassifier\n",
    "from sklearn.metrics import accuracy_score\n",
    "import os"
   ]
  },
  {
   "cell_type": "code",
   "execution_count": 78,
   "id": "0e1533ff",
   "metadata": {},
   "outputs": [],
   "source": [
    "df.dropna(inplace=True)"
   ]
  },
  {
   "cell_type": "code",
   "execution_count": 79,
   "id": "8cf55a94",
   "metadata": {},
   "outputs": [],
   "source": [
    "df = pd.read_csv('weather.csv')\n",
    "df['humidity_val'] = (df['relative_humidity_3pm']>25)*1"
   ]
  },
  {
   "cell_type": "code",
   "execution_count": 80,
   "id": "5d2f20d8",
   "metadata": {},
   "outputs": [],
   "source": [
    "df.drop('relative_humidity_3pm',axis = 1, inplace = True)"
   ]
  },
  {
   "cell_type": "code",
   "execution_count": 81,
   "id": "8a11d5a6",
   "metadata": {},
   "outputs": [
    {
     "data": {
      "text/plain": [
       "number                    0\n",
       "air_pressure_9am          0\n",
       "air_temp_9am              0\n",
       "avg_wind_direction_9am    0\n",
       "avg_wind_speed_9am        0\n",
       "max_wind_direction_9am    0\n",
       "max_wind_speed_9am        0\n",
       "rain_accumulation_9am     0\n",
       "rain_duration_9am         0\n",
       "relative_humidity_9am     0\n",
       "humidity_val              0\n",
       "dtype: int64"
      ]
     },
     "execution_count": 81,
     "metadata": {},
     "output_type": "execute_result"
    }
   ],
   "source": [
    "df.dropna(inplace = True)\n",
    "df.isnull().sum()"
   ]
  },
  {
   "cell_type": "code",
   "execution_count": 82,
   "id": "4dd782c7",
   "metadata": {},
   "outputs": [],
   "source": [
    "y = df['humidity_val']\n",
    "x = df.drop('humidity_val', axis = 1)"
   ]
  },
  {
   "cell_type": "code",
   "execution_count": 89,
   "id": "880e6d54",
   "metadata": {},
   "outputs": [],
   "source": [
    "trainx, testx, trainy, testy = train_test_split(x,y,test_size=0.33)"
   ]
  },
  {
   "cell_type": "code",
   "execution_count": 95,
   "id": "d188f495",
   "metadata": {},
   "outputs": [],
   "source": [
    "knn = KNeighborsClassifier(n_neighbors=7)"
   ]
  },
  {
   "cell_type": "code",
   "execution_count": 96,
   "id": "82880695",
   "metadata": {},
   "outputs": [
    {
     "data": {
      "text/plain": [
       "number                    0\n",
       "air_pressure_9am          0\n",
       "air_temp_9am              0\n",
       "avg_wind_direction_9am    0\n",
       "avg_wind_speed_9am        0\n",
       "max_wind_direction_9am    0\n",
       "max_wind_speed_9am        0\n",
       "rain_accumulation_9am     0\n",
       "rain_duration_9am         0\n",
       "relative_humidity_9am     0\n",
       "humidity_val              0\n",
       "dtype: int64"
      ]
     },
     "execution_count": 96,
     "metadata": {},
     "output_type": "execute_result"
    }
   ],
   "source": [
    "df.isnull().sum()"
   ]
  },
  {
   "cell_type": "code",
   "execution_count": 97,
   "id": "013c9c06",
   "metadata": {},
   "outputs": [],
   "source": [
    "model = knn.fit(trainx, trainy)"
   ]
  },
  {
   "cell_type": "code",
   "execution_count": 100,
   "id": "6173a566",
   "metadata": {},
   "outputs": [
    {
     "name": "stderr",
     "output_type": "stream",
     "text": [
      "C:\\Users\\ABC\\anaconda3\\lib\\site-packages\\sklearn\\neighbors\\_classification.py:228: FutureWarning: Unlike other reduction functions (e.g. `skew`, `kurtosis`), the default behavior of `mode` typically preserves the axis it acts along. In SciPy 1.11.0, this behavior will change: the default value of `keepdims` will become False, the `axis` over which the statistic is taken will be eliminated, and the value None will no longer be accepted. Set `keepdims` to True or False to avoid this warning.\n",
      "  mode, _ = stats.mode(_y[neigh_ind, k], axis=1)\n"
     ]
    }
   ],
   "source": [
    "y_pred = knn.predict(testx)"
   ]
  },
  {
   "cell_type": "code",
   "execution_count": 101,
   "id": "1661f460",
   "metadata": {},
   "outputs": [
    {
     "data": {
      "text/plain": [
       "0.7613636363636364"
      ]
     },
     "execution_count": 101,
     "metadata": {},
     "output_type": "execute_result"
    }
   ],
   "source": [
    "acc = accuracy_score(testy, y_pred)\n",
    "acc"
   ]
  },
  {
   "cell_type": "code",
   "execution_count": null,
   "id": "f77e6fa0",
   "metadata": {},
   "outputs": [],
   "source": []
  },
  {
   "cell_type": "code",
   "execution_count": null,
   "id": "836628c6",
   "metadata": {},
   "outputs": [],
   "source": []
  }
 ],
 "metadata": {
  "kernelspec": {
   "display_name": "Python 3 (ipykernel)",
   "language": "python",
   "name": "python3"
  },
  "language_info": {
   "codemirror_mode": {
    "name": "ipython",
    "version": 3
   },
   "file_extension": ".py",
   "mimetype": "text/x-python",
   "name": "python",
   "nbconvert_exporter": "python",
   "pygments_lexer": "ipython3",
   "version": "3.9.13"
  }
 },
 "nbformat": 4,
 "nbformat_minor": 5
}
